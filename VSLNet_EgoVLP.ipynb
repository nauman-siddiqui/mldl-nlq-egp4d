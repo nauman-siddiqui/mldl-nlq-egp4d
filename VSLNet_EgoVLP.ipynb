{
  "cells": [
    {
      "cell_type": "code",
      "execution_count": null,
      "metadata": {
        "colab": {
          "background_save": true,
          "base_uri": "https://localhost:8080/"
        },
        "id": "v2Aw7jy9z0AW",
        "outputId": "b3969960-a9ec-4e4a-f97b-bd163240374b"
      },
      "outputs": [
        {
          "name": "stdout",
          "output_type": "stream",
          "text": [
            "Mounted at /content/drive\n"
          ]
        }
      ],
      "source": [
        "from google.colab import drive\n",
        "import shutil\n",
        "import tarfile\n",
        "import os\n",
        "\n",
        "drive.mount('/content/drive')\n",
        "\n",
        "# Copy the file from Google Drive\n",
        "file_path = '/content/drive/My Drive/Colab Notebooks/egovlp_fp16.tar.gz'  # Replace with your file path in Google Drive\n",
        "\n",
        "tar = tarfile.open(file_path, \"r\")\n",
        "tar.extractall(path=\"/content/ego4d_data/v1/egovlp_fp16\")\n",
        "tar.close()"
      ]
    },
    {
      "cell_type": "code",
      "execution_count": null,
      "metadata": {
        "id": "FegezlmN1k2E"
      },
      "outputs": [],
      "source": [
        "%%bash\n",
        "\n",
        "git clone https://github.com/EGO4D/episodic-memory\n",
        "cd episodic-memory\n",
        "git pull\n",
        "git checkout nlq_fixes_and_fp16_support"
      ]
    },
    {
      "cell_type": "code",
      "execution_count": null,
      "metadata": {
        "id": "UkOGwhne1n_8"
      },
      "outputs": [],
      "source": [
        "import os\n",
        "os.environ['AWS_ACCESS_KEY_ID'] = \"access_key\"\n",
        "os.environ['AWS_SECRET_ACCESS_KEY'] = \"secret_key\""
      ]
    },
    {
      "cell_type": "code",
      "execution_count": null,
      "metadata": {
        "id": "hBpu61NZ1n-H"
      },
      "outputs": [],
      "source": [
        "# Download the AWS and Ego4D CLIs, then download the annotations locally\n",
        "%%bash\n",
        "\n",
        "# Set up the AWS CLI\n",
        "curl \"https://awscli.amazonaws.com/awscli-exe-linux-x86_64.zip\" -o \"awscliv2.zip\"\n",
        "unzip -o awscliv2.zip >/dev/null\n",
        "sudo ./aws/install >/dev/null 2>&1\n",
        "aws configure set aws_access_key_id \"$AWS_ACCESS_KEY_ID\" && aws configure set aws_secret_access_key \"$AWS_SECRET_ACCESS_KEY\"\n",
        "rm \"awscliv2.zip\""
      ]
    },
    {
      "cell_type": "code",
      "execution_count": null,
      "metadata": {
        "id": "UuJ3dOlQ1n8B"
      },
      "outputs": [],
      "source": [
        "# Set up the Ego4D CLI\n",
        "!pip install ego4d"
      ]
    },
    {
      "cell_type": "code",
      "execution_count": null,
      "metadata": {
        "id": "6vUiDszv1n5z"
      },
      "outputs": [],
      "source": [
        "# Download the Ego4D Annotations to ego4d_data/\n",
        "!ego4d --output_directory=\"/content/ego4d_data\" --datasets annotations --benchmarks nlq --version v1 -y"
      ]
    },
    {
      "cell_type": "code",
      "execution_count": null,
      "metadata": {
        "id": "bPvrrrcM1n3t"
      },
      "outputs": [],
      "source": [
        "# Ensure we have downloaded the files correctly\n",
        "!ls /content/ego4d_data/v1/annotations | grep nlq"
      ]
    },
    {
      "cell_type": "code",
      "execution_count": null,
      "metadata": {
        "id": "9uQn7TLN1nvT"
      },
      "outputs": [],
      "source": [
        "!ls /content/ego4d_data/v1/egovlp_fp16 | wc -l"
      ]
    },
    {
      "cell_type": "code",
      "execution_count": null,
      "metadata": {
        "id": "PaUNG3481nmu"
      },
      "outputs": [],
      "source": [
        "import json\n",
        "import numpy as np\n",
        "import matplotlib.pyplot as plt\n",
        "%matplotlib inline"
      ]
    },
    {
      "cell_type": "code",
      "execution_count": null,
      "metadata": {
        "id": "WiGeOug61ndD"
      },
      "outputs": [],
      "source": [
        "ann_data = json.load(open(\"/content/ego4d_data/v1/annotations/nlq_train.json\"))"
      ]
    },
    {
      "cell_type": "code",
      "execution_count": null,
      "metadata": {
        "id": "BDjLaR961naa"
      },
      "outputs": [],
      "source": [
        "# please see https://ego4d-data.org/docs/data/annotations-schemas/\n",
        "\n",
        "anns = []\n",
        "for vid in ann_data[\"videos\"]:\n",
        "    for clip in vid[\"clips\"]:\n",
        "        for ann in clip[\"annotations\"]:\n",
        "            for query in ann[\"language_queries\"]:\n",
        "                anns.append({\n",
        "                    \"query_start_time_sec\": clip[\"video_start_sec\"],\n",
        "                    \"query_end_time_sec\": clip[\"video_end_sec\"],\n",
        "                    \"query_response_start_time_sec\": query[\"video_start_sec\"],\n",
        "                    \"query_response_end_time_sec\": query[\"video_end_sec\"],\n",
        "                    \"query_template\": query.get(\"template\", None),\n",
        "                    \"query\": query.get(\"query\", None),\n",
        "                })"
      ]
    },
    {
      "cell_type": "code",
      "execution_count": null,
      "metadata": {
        "id": "tQKshOpc1nYC"
      },
      "outputs": [],
      "source": [
        "num_queries = len(anns)\n",
        "relative_query_sizes = np.array([\n",
        "    (a[\"query_response_end_time_sec\"] - a[\"query_response_start_time_sec\"]) / (a[\"query_end_time_sec\"] - a[\"query_start_time_sec\"])\n",
        "    for a in anns\n",
        "])\n",
        "query_sizes = np.array([\n",
        "    (a[\"query_response_end_time_sec\"] - a[\"query_response_start_time_sec\"])\n",
        "    for a in anns\n",
        "])\n",
        "clip_sizes = np.array([\n",
        "    (a[\"query_end_time_sec\"] - a[\"query_start_time_sec\"])\n",
        "    for a in anns\n",
        "])"
      ]
    },
    {
      "cell_type": "code",
      "execution_count": null,
      "metadata": {
        "id": "kuyu98qG11tP"
      },
      "outputs": [],
      "source": [
        "query_sizes.max(), query_sizes.min(), query_sizes.std()"
      ]
    },
    {
      "cell_type": "code",
      "execution_count": null,
      "metadata": {
        "id": "9w6L966l11rE"
      },
      "outputs": [],
      "source": [
        "# less than or equal to 4 frames => 9% of training data\n",
        "(query_sizes <= 4/30).sum() / len(relative_query_sizes)"
      ]
    },
    {
      "cell_type": "code",
      "execution_count": null,
      "metadata": {
        "id": "qF8G61ds11oI"
      },
      "outputs": [],
      "source": [
        "plt.rcParams[\"figure.figsize\"] = (16, 9)"
      ]
    },
    {
      "cell_type": "code",
      "execution_count": null,
      "metadata": {
        "id": "ifBmVcDa11lT"
      },
      "outputs": [],
      "source": [
        "plt.hist(relative_query_sizes[relative_query_sizes < 0.2], density=True, bins=128)\n",
        "plt.show()"
      ]
    },
    {
      "cell_type": "code",
      "execution_count": null,
      "metadata": {
        "id": "F_hdaFAz16L4"
      },
      "outputs": [],
      "source": [
        "plt.hist(relative_query_sizes[relative_query_sizes > 0.2], density=True, bins=128)\n",
        "plt.show()"
      ]
    },
    {
      "cell_type": "code",
      "execution_count": null,
      "metadata": {
        "id": "Z6Ivu1Z916Iz"
      },
      "outputs": [],
      "source": [
        "clip_sizes.mean(), clip_sizes.max(), clip_sizes.min(), clip_sizes.std(), np.median(clip_sizes)"
      ]
    },
    {
      "cell_type": "code",
      "execution_count": null,
      "metadata": {
        "id": "ZHSAyLQK16GZ"
      },
      "outputs": [],
      "source": [
        "plt.hist(clip_sizes)\n",
        "plt.show()"
      ]
    },
    {
      "cell_type": "code",
      "execution_count": null,
      "metadata": {
        "id": "eLVwdeNo16EI"
      },
      "outputs": [],
      "source": [
        "with open(\"vars.sh\", \"w\") as out_f:\n",
        "  out_f.write(\"\"\"\n",
        "export NAME=egovlp_fp16\n",
        "export TASK_NAME=nlq_official_v1_$NAME\n",
        "export BASE_DIR=data/dataset/nlq_official_v1_$NAME\n",
        "export FEATURE_BASE_DIR=data/features/nlq_official_v1_$NAME/\n",
        "export FEATURE_DIR=$FEATURE_BASE_DIR/video_features\n",
        "export MODEL_BASE_DIR=/content/nlq_official_v1/checkpoints/\n",
        "\n",
        "cd episodic-memory/NLQ/VSLNet\n",
        "\"\"\"\n",
        "  )\n"
      ]
    },
    {
      "cell_type": "code",
      "execution_count": null,
      "metadata": {
        "id": "CqBDCtgN16BA"
      },
      "outputs": [],
      "source": [
        "%%bash\n",
        "\n",
        "source vars.sh\n",
        "\n",
        "echo $FEATURE_BASE_DIR\n",
        "mkdir -p $FEATURE_BASE_DIR\n",
        "# ln -s /content/ego4d_data/v1/omnivore_video_swinl $FEATURE_DIR\n",
        "ln -s /content/ego4d_data/v1/egovlp_fp16 $FEATURE_DIR"
      ]
    },
    {
      "cell_type": "code",
      "execution_count": null,
      "metadata": {
        "id": "hpYZG7Kz2C-y"
      },
      "outputs": [],
      "source": [
        "%%bash\n",
        "%%capture\n",
        "\n",
        "source vars.sh\n",
        "pip install nltk submitit torch torchaudio torchvision tqdm transformers tensorboard Pillow terminaltables"
      ]
    },
    {
      "cell_type": "code",
      "execution_count": null,
      "metadata": {
        "id": "coDc2Lnz2C8K"
      },
      "outputs": [],
      "source": [
        "%%bash\n",
        "\n",
        "source vars.sh\n",
        "\n",
        "python utils/prepare_ego4d_dataset.py \\\n",
        "    --input_train_split /content/ego4d_data/v1/annotations/nlq_train.json \\\n",
        "    --input_val_split /content/ego4d_data/v1/annotations/nlq_val.json \\\n",
        "    --input_test_split /content/ego4d_data/v1/annotations/nlq_test_unannotated.json \\\n",
        "    --video_feature_read_path /content/ego4d_data/v1/egovlp_fp16 \\\n",
        "    --clip_feature_save_path $FEATURE_BASE_DIR/official \\\n",
        "    --output_save_path $BASE_DIR"
      ]
    },
    {
      "cell_type": "code",
      "execution_count": null,
      "metadata": {
        "id": "R-BL1-Az2Ehx"
      },
      "outputs": [],
      "source": [
        "%load_ext tensorboard"
      ]
    },
    {
      "cell_type": "code",
      "execution_count": null,
      "metadata": {
        "id": "1OoiBfl02EfH"
      },
      "outputs": [],
      "source": [
        "!mkdir -p /content/episodic-memory/NLQ/VSLNet//runs/\n",
        "%tensorboard --logdir /content/episodic-memory/NLQ/VSLNet/runs/"
      ]
    },
    {
      "cell_type": "code",
      "execution_count": null,
      "metadata": {
        "id": "8q_Nkxpo2H_l"
      },
      "outputs": [],
      "source": [
        "%%bash\n",
        "\n",
        "source vars.sh\n",
        "\n",
        "# machine parameters\n",
        "export DATALOADER_WORKERS=1\n",
        "export NUM_WORKERS=2\n",
        "export VAL_JSON_PATH=\"/content/ego4d_data/v1/annotations/nlq_val.json\"\n",
        "\n",
        "# hyper parameters\n",
        "export BATCH_SIZE=32\n",
        "export DIM=128\n",
        "export NUM_EPOCH=10\n",
        "export MAX_POS_LEN=128\n",
        "export INIT_LR=0.0025\n",
        "\n",
        "export TB_LOG_NAME=\"${NAME}_bs${BATCH_SIZE}_dim${DIM}_epoch${NUM_EPOCH}_ilr${INIT_LR}\"\n",
        "\n",
        "python main.py \\\n",
        "    --task $TASK_NAME \\\n",
        "    --predictor bert \\\n",
        "    --dim $DIM \\\n",
        "    --mode train \\\n",
        "    --video_feature_dim 256 \\\n",
        "    --max_pos_len $MAX_POS_LEN \\\n",
        "    --init_lr $INIT_LR \\\n",
        "    --epochs $NUM_EPOCH \\\n",
        "    --batch_size $BATCH_SIZE \\\n",
        "    --fv official \\\n",
        "    --num_workers $NUM_WORKERS \\\n",
        "    --data_loader_workers $DATALOADER_WORKERS \\\n",
        "    --model_dir $MODEL_BASE_DIR/$NAME \\\n",
        "    --eval_gt_json $VAL_JSON_PATH \\\n",
        "    --log_to_tensorboard $TB_LOG_NAME \\\n",
        "    --tb_log_freq 5 \\\n",
        "    --remove_empty_queries_from train"
      ]
    }
  ],
  "metadata": {
    "accelerator": "GPU",
    "colab": {
      "gpuType": "T4",
      "provenance": []
    },
    "kernelspec": {
      "display_name": "Python 3",
      "name": "python3"
    },
    "language_info": {
      "name": "python"
    }
  },
  "nbformat": 4,
  "nbformat_minor": 0
}
